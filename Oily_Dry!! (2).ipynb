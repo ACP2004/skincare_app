{
 "cells": [
  {
   "cell_type": "code",
   "execution_count": 1,
   "id": "f70e898f",
   "metadata": {},
   "outputs": [],
   "source": [
    "# IMPORTS\n",
    "\n",
    "import pandas as pd\n",
    "import numpy as np\n",
    "import tensorflow as tf\n",
    "from PIL import Image\n",
    "from tensorflow.keras.preprocessing import image\n",
    "from tensorflow.keras.preprocessing.image import ImageDataGenerator\n",
    "from tensorflow.keras.models import Sequential\n",
    "from tensorflow.keras.layers import Dense, Flatten\n",
    "from sklearn.model_selection import train_test_split\n",
    "from sklearn.preprocessing import LabelEncoder\n",
    "import cv2\n",
    "import os\n",
    "import matplotlib.pyplot as plt\n",
    "from sklearn.discriminant_analysis import LinearDiscriminantAnalysis as LDA\n",
    "from sklearn.preprocessing import StandardScaler, LabelEncoder\n",
    "from sklearn.metrics import accuracy_score"
   ]
  },
  {
   "cell_type": "code",
   "execution_count": 2,
   "id": "c06622c5",
   "metadata": {},
   "outputs": [
    {
     "name": "stdout",
     "output_type": "stream",
     "text": [
      "<keras.src.legacy.preprocessing.image.ImageDataGenerator object at 0x0000016A70B6B170>\n",
      "\n",
      "Found 1397 images belonging to 2 classes.\n",
      "<keras.src.legacy.preprocessing.image.DirectoryIterator object at 0x0000016A0F59D670>\n",
      "\n",
      "Found 0 images belonging to 2 classes.\n",
      "{'non-oily': 0, 'oily': 1}\n",
      "\n",
      "(64, 64, 3)\n"
     ]
    }
   ],
   "source": [
    "# IMAGE DATA GENERATOR FOR LOADING IMAGES\n",
    "train_datagen = ImageDataGenerator(rescale = 1/255, width_shift_range=0.2, rotation_range=0.2,horizontal_flip=True)\n",
    "print(train_datagen)\n",
    "print()\n",
    "\n",
    "# LOAD THE DATA FROM THE DIRECTORY\n",
    "train_generator = train_datagen.flow_from_directory(r\"C:\\\\Users\\\\acpsi\\\\Downloads\\\\archive (2)\\\\new_Dataset\\train\",\n",
    "    batch_size=32, target_size=(64,64), class_mode='binary',subset='training')\n",
    "print(train_generator)\n",
    "print()\n",
    "\n",
    "validation_generator = train_datagen.flow_from_directory(r\"C:\\\\Users\\\\acpsi\\\\Downloads\\\\archive (2)\\\\new_Dataset\\\\val\",\n",
    "    target_size=(150, 150),batch_size=32,class_mode='binary',subset='validation')\n",
    "\n",
    "# LABEL ENCODING THE DATA\n",
    "print(train_generator.class_indices)\n",
    "print()\n",
    "\n",
    "# GETTING THE DATA SHAPE\n",
    "print(train_generator.image_shape)"
   ]
  },
  {
   "cell_type": "code",
   "execution_count": 3,
   "id": "cc7f7d77",
   "metadata": {},
   "outputs": [
    {
     "name": "stderr",
     "output_type": "stream",
     "text": [
      "c:\\Users\\acpsi\\AppData\\Local\\Programs\\Python\\Python312\\Lib\\site-packages\\keras\\src\\layers\\reshaping\\flatten.py:37: UserWarning: Do not pass an `input_shape`/`input_dim` argument to a layer. When using Sequential models, prefer using an `Input(shape)` object as the first layer in the model instead.\n",
      "  super().__init__(**kwargs)\n"
     ]
    },
    {
     "name": "stdout",
     "output_type": "stream",
     "text": [
      "Epoch 1/5\n"
     ]
    },
    {
     "name": "stderr",
     "output_type": "stream",
     "text": [
      "c:\\Users\\acpsi\\AppData\\Local\\Programs\\Python\\Python312\\Lib\\site-packages\\keras\\src\\trainers\\data_adapters\\py_dataset_adapter.py:122: UserWarning: Your `PyDataset` class should call `super().__init__(**kwargs)` in its constructor. `**kwargs` can include `workers`, `use_multiprocessing`, `max_queue_size`. Do not pass these arguments to `fit()`, as they will be ignored.\n",
      "  self._warn_if_super_not_called()\n"
     ]
    },
    {
     "name": "stdout",
     "output_type": "stream",
     "text": [
      "\u001b[1m44/44\u001b[0m \u001b[32m━━━━━━━━━━━━━━━━━━━━\u001b[0m\u001b[37m\u001b[0m \u001b[1m7s\u001b[0m 123ms/step - accuracy: 0.5203 - loss: 0.8605\n",
      "Epoch 2/5\n",
      "\u001b[1m44/44\u001b[0m \u001b[32m━━━━━━━━━━━━━━━━━━━━\u001b[0m\u001b[37m\u001b[0m \u001b[1m7s\u001b[0m 130ms/step - accuracy: 0.6221 - loss: 0.6837\n",
      "Epoch 3/5\n",
      "\u001b[1m44/44\u001b[0m \u001b[32m━━━━━━━━━━━━━━━━━━━━\u001b[0m\u001b[37m\u001b[0m \u001b[1m7s\u001b[0m 132ms/step - accuracy: 0.6028 - loss: 0.6535\n",
      "Epoch 4/5\n",
      "\u001b[1m44/44\u001b[0m \u001b[32m━━━━━━━━━━━━━━━━━━━━\u001b[0m\u001b[37m\u001b[0m \u001b[1m7s\u001b[0m 140ms/step - accuracy: 0.6378 - loss: 0.6477\n",
      "Epoch 5/5\n",
      "\u001b[1m44/44\u001b[0m \u001b[32m━━━━━━━━━━━━━━━━━━━━\u001b[0m\u001b[37m\u001b[0m \u001b[1m8s\u001b[0m 144ms/step - accuracy: 0.6039 - loss: 0.6725\n"
     ]
    },
    {
     "name": "stderr",
     "output_type": "stream",
     "text": [
      "WARNING:absl:You are saving your model as an HDF5 file via `model.save()` or `keras.saving.save_model(model)`. This file format is considered legacy. We recommend using instead the native Keras format, e.g. `model.save('my_model.keras')` or `keras.saving.save_model(model, 'my_model.keras')`. \n"
     ]
    }
   ],
   "source": [
    "# BUILDING A MODEL\n",
    "model = Sequential([\n",
    "    Flatten(input_shape=(64,64,3)),\n",
    "    Dense(1, activation='sigmoid')\n",
    "])\n",
    "\n",
    "# COMPILE \n",
    "model.compile(optimizer = 'adam', loss='binary_crossentropy', metrics=['accuracy'])\n",
    "\n",
    "# FIT\n",
    "model.fit(train_generator, epochs=5)\n",
    "\n",
    "# SAVE\n",
    "model.save('skin_type_classifier.h5')"
   ]
  },
  {
   "cell_type": "code",
   "execution_count": null,
   "id": "be62e4f4",
   "metadata": {},
   "outputs": [],
   "source": []
  },
  {
   "cell_type": "code",
   "execution_count": 4,
   "id": "8b4679f5",
   "metadata": {},
   "outputs": [],
   "source": [
    "from keras.models import load_model\n",
    "from keras.preprocessing import image as keras_image"
   ]
  },
  {
   "cell_type": "code",
   "execution_count": 5,
   "id": "fc744d3d",
   "metadata": {},
   "outputs": [
    {
     "name": "stderr",
     "output_type": "stream",
     "text": [
      "WARNING:absl:Compiled the loaded model, but the compiled metrics have yet to be built. `model.compile_metrics` will be empty until you train or evaluate the model.\n"
     ]
    },
    {
     "name": "stdout",
     "output_type": "stream",
     "text": [
      "\u001b[1m1/1\u001b[0m \u001b[32m━━━━━━━━━━━━━━━━━━━━\u001b[0m\u001b[37m\u001b[0m \u001b[1m0s\u001b[0m 51ms/step\n",
      "Predicted Skin Type: Dry\n"
     ]
    }
   ],
   "source": [
    "# Load the trained model\n",
    "model =load_model('skin_type_classifier.h5')\n",
    "\n",
    "# Path to the test image\n",
    "test_image_path = \"C:\\\\Users\\\\acpsi\\\\Downloads\\\\archive (2)\\\\new_Dataset\\\\val\\\\oily\\\\oily_f78c1f95bd4b5d485416_jpg.rf.4ce0cec3fed383026e07de6189fe6350.jpg\"\n",
    "# Preprocess the image (resize and scale pixel values as done during training)\n",
    "test_image = keras_image.load_img(test_image_path, target_size=(64, 64))  # Resizing to 64x64\n",
    "test_image = keras_image.img_to_array(test_image)  # Convert image to array\n",
    "test_image = np.expand_dims(test_image, axis=0)  # Add batch dimension\n",
    "test_image = test_image / 255.0  # Normalize pixel values (same as in training)\n",
    "\n",
    "# Make the prediction\n",
    "prediction = model.predict(test_image)\n",
    "predicted_class = 'Oily' if prediction[0][0] > 0.5 else 'Dry'\n",
    "output = print(\"Predicted Skin Type:\", predicted_class)\n",
    "output"
   ]
  },
  {
   "cell_type": "code",
   "execution_count": 6,
   "id": "4cef47f4",
   "metadata": {},
   "outputs": [
    {
     "name": "stderr",
     "output_type": "stream",
     "text": [
      "WARNING:absl:Compiled the loaded model, but the compiled metrics have yet to be built. `model.compile_metrics` will be empty until you train or evaluate the model.\n"
     ]
    },
    {
     "name": "stdout",
     "output_type": "stream",
     "text": [
      "\u001b[1m1/1\u001b[0m \u001b[32m━━━━━━━━━━━━━━━━━━━━\u001b[0m\u001b[37m\u001b[0m \u001b[1m0s\u001b[0m 47ms/step\n",
      "Predicted Skin Type: Oily\n"
     ]
    }
   ],
   "source": [
    "# Load the trained model\n",
    "model =load_model('skin_type_classifier.h5')\n",
    "\n",
    "# Path to the test image\n",
    "test_image_path = \"C:\\\\Users\\\\acpsi\\\\OneDrive\\\\Pictures\\\\Camera Roll\\\\WIN_20241110_09_25_25_Pro.jpg\"\n",
    "test_image = keras_image.load_img(test_image_path, target_size=(64, 64))  # Resizing to 64x64\n",
    "test_image = keras_image.img_to_array(test_image)  # Convert image to array\n",
    "test_image = np.expand_dims(test_image, axis=0)  # Add batch dimension\n",
    "test_image = test_image / 255.0  # Normalize pixel values (same as in training)\n",
    "\n",
    "# Make the prediction\n",
    "prediction = model.predict(test_image)\n",
    "predicted_class = 'Oily' if prediction[0][0] > 0.5 else 'Dry'\n",
    "output = print(\"Predicted Skin Type:\", predicted_class)\n",
    "output"
   ]
  },
  {
   "cell_type": "code",
   "execution_count": 7,
   "id": "38b4b9cc",
   "metadata": {},
   "outputs": [],
   "source": [
    "# used this one too\n",
    "# \"C:\\Users\\Tanisha\\OneDrive\\Desktop\\Sem-5\\FOML\\Project\\Train\\oily\\oily_7d345a3daf37ea3a325b_jpg.rf.c461b9931251d32fe5d93e0635ba8c43.jpg\""
   ]
  },
  {
   "cell_type": "code",
   "execution_count": 8,
   "id": "5469e171",
   "metadata": {
    "scrolled": true
   },
   "outputs": [
    {
     "data": {
      "text/html": [
       "<div>\n",
       "<style scoped>\n",
       "    .dataframe tbody tr th:only-of-type {\n",
       "        vertical-align: middle;\n",
       "    }\n",
       "\n",
       "    .dataframe tbody tr th {\n",
       "        vertical-align: top;\n",
       "    }\n",
       "\n",
       "    .dataframe thead th {\n",
       "        text-align: right;\n",
       "    }\n",
       "</style>\n",
       "<table border=\"1\" class=\"dataframe\">\n",
       "  <thead>\n",
       "    <tr style=\"text-align: right;\">\n",
       "      <th></th>\n",
       "      <th>Skin_type</th>\n",
       "      <th>Product</th>\n",
       "      <th>Concern</th>\n",
       "      <th>product_url</th>\n",
       "      <th>product_pic</th>\n",
       "    </tr>\n",
       "  </thead>\n",
       "  <tbody>\n",
       "    <tr>\n",
       "      <th>0</th>\n",
       "      <td>Dry</td>\n",
       "      <td>Venusia Max Intensive Moisturizing Cream</td>\n",
       "      <td>Acne,Hydration</td>\n",
       "      <td>https://dermatics.in/products/venusia-max-inte...</td>\n",
       "      <td>https://dermatics.in/cdn/shop/files/VENUSIA_4-...</td>\n",
       "    </tr>\n",
       "    <tr>\n",
       "      <th>1</th>\n",
       "      <td>Oily,Combination</td>\n",
       "      <td>Saslic Foaming Face Wash</td>\n",
       "      <td>Whitehead/Blackhead</td>\n",
       "      <td>https://dermatics.in/products/cipla-saslic-foa...</td>\n",
       "      <td>https://dermatics.in/cdn/shop/files/saslic-foa...</td>\n",
       "    </tr>\n",
       "    <tr>\n",
       "      <th>2</th>\n",
       "      <td>Dry</td>\n",
       "      <td>The Derma Co 1% Hyaluronic Sunscreen Aqua Ultr...</td>\n",
       "      <td>Sun protection</td>\n",
       "      <td>https://amzn.to/464QBwM</td>\n",
       "      <td>https://m.media-amazon.com/images/I/51x3cj+-iU...</td>\n",
       "    </tr>\n",
       "    <tr>\n",
       "      <th>3</th>\n",
       "      <td>Dry</td>\n",
       "      <td>Hyalugel</td>\n",
       "      <td>Hydration</td>\n",
       "      <td>https://www.amazon.in/Hyalugel-Hyaluronic-Acid...</td>\n",
       "      <td>https://thebeautyinsideout.com/wp-content/uplo...</td>\n",
       "    </tr>\n",
       "    <tr>\n",
       "      <th>4</th>\n",
       "      <td>Normal</td>\n",
       "      <td>Himalaya Neem Face Wash</td>\n",
       "      <td>Pimples</td>\n",
       "      <td>https://himalayawellness.in/products/himalaya-...</td>\n",
       "      <td>https://himalayawellness.in/cdn/shop/files/100...</td>\n",
       "    </tr>\n",
       "  </tbody>\n",
       "</table>\n",
       "</div>"
      ],
      "text/plain": [
       "          Skin_type                                            Product  \\\n",
       "0               Dry           Venusia Max Intensive Moisturizing Cream   \n",
       "1  Oily,Combination                           Saslic Foaming Face Wash   \n",
       "2               Dry  The Derma Co 1% Hyaluronic Sunscreen Aqua Ultr...   \n",
       "3               Dry                                           Hyalugel   \n",
       "4            Normal                            Himalaya Neem Face Wash   \n",
       "\n",
       "               Concern                                        product_url  \\\n",
       "0       Acne,Hydration  https://dermatics.in/products/venusia-max-inte...   \n",
       "1  Whitehead/Blackhead  https://dermatics.in/products/cipla-saslic-foa...   \n",
       "2       Sun protection                            https://amzn.to/464QBwM   \n",
       "3            Hydration  https://www.amazon.in/Hyalugel-Hyaluronic-Acid...   \n",
       "4              Pimples  https://himalayawellness.in/products/himalaya-...   \n",
       "\n",
       "                                         product_pic  \n",
       "0  https://dermatics.in/cdn/shop/files/VENUSIA_4-...  \n",
       "1  https://dermatics.in/cdn/shop/files/saslic-foa...  \n",
       "2  https://m.media-amazon.com/images/I/51x3cj+-iU...  \n",
       "3  https://thebeautyinsideout.com/wp-content/uplo...  \n",
       "4  https://himalayawellness.in/cdn/shop/files/100...  "
      ]
     },
     "execution_count": 8,
     "metadata": {},
     "output_type": "execute_result"
    }
   ],
   "source": [
    "df = pd.read_csv(\"C:\\\\Users\\\\acpsi\\\\Downloads\\\\Skinpro - Skinpro (2) (1).csv\")\n",
    "df.head()"
   ]
  },
  {
   "cell_type": "code",
   "execution_count": 9,
   "id": "f8892588-a5e7-4db5-b56b-88e23897a3c4",
   "metadata": {},
   "outputs": [
    {
     "data": {
      "text/plain": [
       "array(['Acne,Hydration', 'Whitehead/Blackhead', 'Sun protection',\n",
       "       'Hydration', 'Pimples', 'Pigmentation', 'Hydration,Irritation',\n",
       "       'Hydration, Irritation', 'Acne', 'Acne,Whitehead/Blackhead',\n",
       "       'Dark Spots', 'Dark Spots,Pigmentation',\n",
       "       'Hydration,Broken barrier', 'Hydration,Exfoliation',\n",
       "       'Whitehead/Blackhead,Exfoliation', 'Acne,Dark Spots',\n",
       "       'Broken barrier', 'Hydration,Broken barrier,Irritation',\n",
       "       'Whitehead/Blackhead,Acne', 'Broken barrier,Hydration', 'Pores',\n",
       "       'Pigmentation,Dark Spots', 'Sun protection,Broken barrier',\n",
       "       'Exfoliation', 'Pimples,Acne', 'Whitehead/Blackhead,Pores',\n",
       "       'Acne,Pimples', ' Acne ', 'Irritation,Skin soothing',\n",
       "       'Pigmentation,Acne', 'Sun protection,Hydration', 'Irritation',\n",
       "       'Skin soothing,Pores', 'Skin soothing', 'Pores,Skin soothing',\n",
       "       'Sun protection,Irritation', 'Acne,Whitehead/Blackhead,Pimples',\n",
       "       'Exfoliation,Hydration', 'Pores,Hydration',\n",
       "       'Broken barrier,Whitehead/Blackhead', 'Exfoliation,Pigmentation',\n",
       "       'Hydration,Skin soothing', 'Acne,Pores', 'Hydration,Dark Spots',\n",
       "       'Dark Spots,Hydration', 'Pores,Exfoliation',\n",
       "       'Pigmentation,Exfoliation', 'Hydration,Skin soothing,Irritation',\n",
       "       'Exfoliation,Whitehead/Blackhead',\n",
       "       'Pimples,Acne,Whitehead/Blackhead'], dtype=object)"
      ]
     },
     "execution_count": 9,
     "metadata": {},
     "output_type": "execute_result"
    }
   ],
   "source": [
    "df['Concern'].unique()\n",
    "# acne hydration whitehead/blackheads sunprotection pimples pigmentataion irritation darkspots broken barrier exfoliation pores soothing "
   ]
  },
  {
   "cell_type": "code",
   "execution_count": 10,
   "id": "c6e831fb",
   "metadata": {},
   "outputs": [
    {
     "data": {
      "text/plain": [
       "array(['Dry', 'Oily,Combination', 'Normal',\n",
       "       'Dry,Oily,Normal,Combination,Sensitive', 'Sensitive,Oily', 'Oily',\n",
       "       'Combination,Oily', 'Sensitive', 'Combination',\n",
       "       'Normal,Combination', 'Normal,Combination,Oily,Dry,Sensitive',\n",
       "       'Dry,Sensitive,Combination', 'Normal,Oily', 'Normal,Dry,Sensitive',\n",
       "       'Dry,Normal', 'Oily,Dry', 'Dry ', 'Dry,Sensitive',\n",
       "       'Dry,Normal,Oily,Combination', 'Normal,Dry,Combination',\n",
       "       'Normal,Dry,Combination,Oily,Sensitive',\n",
       "       'Oily,Sensitive,Combination', 'Sensitive,Combination',\n",
       "       'Normal,Sensitive', 'Normal,Dry', 'Normal,Dry,Combination,Oily',\n",
       "       'Normal, Oily, Sensitive, Dry, Combination', 'Dry,Combination',\n",
       "       'Dry,Normal,Sensitive', 'Dry,Combination,Oily,Sensitive',\n",
       "       'Dry, Sensitive, Combination', 'Oily,Dry,Sensitive',\n",
       "       'Normal,Oily,Dry', 'Oily ', 'Dry,Normal,Combination',\n",
       "       'Sensitive,Dry', 'Combination,Oily,Sensitive'], dtype=object)"
      ]
     },
     "execution_count": 10,
     "metadata": {},
     "output_type": "execute_result"
    }
   ],
   "source": [
    "df['Skin_type'].unique()"
   ]
  },
  {
   "cell_type": "code",
   "execution_count": 11,
   "id": "799a7257-1658-47cb-9de5-5344ac3895b4",
   "metadata": {},
   "outputs": [
    {
     "name": "stdout",
     "output_type": "stream",
     "text": [
      "Oily\n"
     ]
    }
   ],
   "source": [
    "output=predicted_class\n",
    "print(output)"
   ]
  },
  {
   "cell_type": "code",
   "execution_count": 12,
   "id": "dbc4ef0b-bb3e-43e2-ac4d-f26a2636055d",
   "metadata": {},
   "outputs": [
    {
     "name": "stdout",
     "output_type": "stream",
     "text": [
      "Rows containing the word: Oily\n"
     ]
    },
    {
     "data": {
      "text/html": [
       "<div>\n",
       "<style scoped>\n",
       "    .dataframe tbody tr th:only-of-type {\n",
       "        vertical-align: middle;\n",
       "    }\n",
       "\n",
       "    .dataframe tbody tr th {\n",
       "        vertical-align: top;\n",
       "    }\n",
       "\n",
       "    .dataframe thead th {\n",
       "        text-align: right;\n",
       "    }\n",
       "</style>\n",
       "<table border=\"1\" class=\"dataframe\">\n",
       "  <thead>\n",
       "    <tr style=\"text-align: right;\">\n",
       "      <th></th>\n",
       "      <th>Product</th>\n",
       "    </tr>\n",
       "  </thead>\n",
       "  <tbody>\n",
       "    <tr>\n",
       "      <th>1</th>\n",
       "      <td>Saslic Foaming Face Wash</td>\n",
       "    </tr>\n",
       "    <tr>\n",
       "      <th>11</th>\n",
       "      <td>Foxtale One Zit Wonder Acne Spot Corrector Gel</td>\n",
       "    </tr>\n",
       "    <tr>\n",
       "      <th>12</th>\n",
       "      <td>RE' EQUIL Oxybenzone and OMC Free Sunscreen Fo...</td>\n",
       "    </tr>\n",
       "    <tr>\n",
       "      <th>13</th>\n",
       "      <td>Dr. Sheth's Haldi &amp; Hyaluronic Acid Sunscreen</td>\n",
       "    </tr>\n",
       "    <tr>\n",
       "      <th>14</th>\n",
       "      <td>Minimalist 2% Salicylic Acid Serum For Acne, B...</td>\n",
       "    </tr>\n",
       "    <tr>\n",
       "      <th>...</th>\n",
       "      <td>...</td>\n",
       "    </tr>\n",
       "    <tr>\n",
       "      <th>193</th>\n",
       "      <td>Clensta Red Aloe Vera Exfoliating Face Scrub W...</td>\n",
       "    </tr>\n",
       "    <tr>\n",
       "      <th>196</th>\n",
       "      <td>SkinQ Acne &amp; Oil Control Serum</td>\n",
       "    </tr>\n",
       "    <tr>\n",
       "      <th>197</th>\n",
       "      <td>Dermoys 365 Lotion</td>\n",
       "    </tr>\n",
       "    <tr>\n",
       "      <th>198</th>\n",
       "      <td>MFine 3% Tranexamic Acid Serum</td>\n",
       "    </tr>\n",
       "    <tr>\n",
       "      <th>199</th>\n",
       "      <td>MFine 1% Salicylic Acid Foaming Cleanser</td>\n",
       "    </tr>\n",
       "  </tbody>\n",
       "</table>\n",
       "<p>103 rows × 1 columns</p>\n",
       "</div>"
      ],
      "text/plain": [
       "                                               Product\n",
       "1                             Saslic Foaming Face Wash\n",
       "11      Foxtale One Zit Wonder Acne Spot Corrector Gel\n",
       "12   RE' EQUIL Oxybenzone and OMC Free Sunscreen Fo...\n",
       "13       Dr. Sheth's Haldi & Hyaluronic Acid Sunscreen\n",
       "14   Minimalist 2% Salicylic Acid Serum For Acne, B...\n",
       "..                                                 ...\n",
       "193  Clensta Red Aloe Vera Exfoliating Face Scrub W...\n",
       "196                     SkinQ Acne & Oil Control Serum\n",
       "197                                 Dermoys 365 Lotion\n",
       "198                     MFine 3% Tranexamic Acid Serum\n",
       "199           MFine 1% Salicylic Acid Foaming Cleanser\n",
       "\n",
       "[103 rows x 1 columns]"
      ]
     },
     "execution_count": 12,
     "metadata": {},
     "output_type": "execute_result"
    }
   ],
   "source": [
    "concern_filter = \"Pimples\"\n",
    "def fetch_column_if_word_exists(df, column_name, word, concern_column, concern_value):\n",
    "    # Filter rows where the word is found in the specified column\n",
    "    filtered_rows = df[df['Skin_type'].str.contains(output, case=False, na=False)]\n",
    "    return filtered_rows[column_name]\n",
    "\n",
    "\n",
    "\n",
    "# Usage\n",
    "result = fetch_column_if_word_exists(df, 'Product', output, 'Concern', concern_filter)\n",
    "\n",
    "print(\"Rows containing the word:\", output)\n",
    "result = pd.DataFrame(result)\n",
    "result"
   ]
  },
  {
   "cell_type": "code",
   "execution_count": 13,
   "id": "b99b5def-d784-4f26-92fc-6ff948d111ba",
   "metadata": {},
   "outputs": [
    {
     "name": "stdout",
     "output_type": "stream",
     "text": [
      "Rows containing the word: oily\n"
     ]
    },
    {
     "data": {
      "text/html": [
       "<div>\n",
       "<style scoped>\n",
       "    .dataframe tbody tr th:only-of-type {\n",
       "        vertical-align: middle;\n",
       "    }\n",
       "\n",
       "    .dataframe tbody tr th {\n",
       "        vertical-align: top;\n",
       "    }\n",
       "\n",
       "    .dataframe thead th {\n",
       "        text-align: right;\n",
       "    }\n",
       "</style>\n",
       "<table border=\"1\" class=\"dataframe\">\n",
       "  <thead>\n",
       "    <tr style=\"text-align: right;\">\n",
       "      <th></th>\n",
       "      <th>Concern</th>\n",
       "      <th>Skin_type</th>\n",
       "      <th>Product</th>\n",
       "      <th>product_url</th>\n",
       "      <th>product_pic</th>\n",
       "    </tr>\n",
       "  </thead>\n",
       "  <tbody>\n",
       "    <tr>\n",
       "      <th>115</th>\n",
       "      <td>Irritation</td>\n",
       "      <td>Normal,Dry,Combination,Oily,Sensitive</td>\n",
       "      <td>Lacto Calamine Face Toner With Cucumber</td>\n",
       "      <td>https://www.amazon.in/Lacto-Calamine-Cucumber-...</td>\n",
       "      <td>https://m.media-amazon.com/images/I/51XfFgsBFj...</td>\n",
       "    </tr>\n",
       "    <tr>\n",
       "      <th>127</th>\n",
       "      <td>Sun protection,Irritation</td>\n",
       "      <td>Normal,Dry,Combination,Oily,Sensitive</td>\n",
       "      <td>Suganda TOTAL DEFENCE SUNSCREEN SPF 50 PA++++ ...</td>\n",
       "      <td>https://suganda.co/products/total-defence-suns...</td>\n",
       "      <td>https://suganda.co/cdn/shop/files/Slide_01copy...</td>\n",
       "    </tr>\n",
       "    <tr>\n",
       "      <th>197</th>\n",
       "      <td>Irritation</td>\n",
       "      <td>Combination,Oily,Sensitive</td>\n",
       "      <td>Dermoys 365 Lotion</td>\n",
       "      <td>https://www.apollopharmacy.in/otc/dermoys-365-...</td>\n",
       "      <td>https://www.clickoncare.com/cdn/shop/files/DER...</td>\n",
       "    </tr>\n",
       "  </tbody>\n",
       "</table>\n",
       "</div>"
      ],
      "text/plain": [
       "                       Concern                              Skin_type  \\\n",
       "115                 Irritation  Normal,Dry,Combination,Oily,Sensitive   \n",
       "127  Sun protection,Irritation  Normal,Dry,Combination,Oily,Sensitive   \n",
       "197                 Irritation             Combination,Oily,Sensitive   \n",
       "\n",
       "                                               Product  \\\n",
       "115            Lacto Calamine Face Toner With Cucumber   \n",
       "127  Suganda TOTAL DEFENCE SUNSCREEN SPF 50 PA++++ ...   \n",
       "197                                 Dermoys 365 Lotion   \n",
       "\n",
       "                                           product_url  \\\n",
       "115  https://www.amazon.in/Lacto-Calamine-Cucumber-...   \n",
       "127  https://suganda.co/products/total-defence-suns...   \n",
       "197  https://www.apollopharmacy.in/otc/dermoys-365-...   \n",
       "\n",
       "                                           product_pic  \n",
       "115  https://m.media-amazon.com/images/I/51XfFgsBFj...  \n",
       "127  https://suganda.co/cdn/shop/files/Slide_01copy...  \n",
       "197  https://www.clickoncare.com/cdn/shop/files/DER...  "
      ]
     },
     "execution_count": 13,
     "metadata": {},
     "output_type": "execute_result"
    }
   ],
   "source": [
    "def fetch_columns_if_word_exists(df, columns, word, concern_column, concern_value):\n",
    "    # Ensure 'word' is a string\n",
    "    if not isinstance(word, str):\n",
    "        word = str(word)\n",
    "    \n",
    "    # Filter rows where 'word' is found in any of the specified columns\n",
    "    mask = df[columns].apply(lambda col: col.str.contains(word, case=False, na=False) if col.dtype == 'object' else False).any(axis=1)\n",
    "    \n",
    "    # Apply the additional filter for the concern column\n",
    "    filtered_rows = df[mask & df[concern_column].str.contains(concern_value, case=False, na=False)]\n",
    "    \n",
    "    return filtered_rows[columns]\n",
    "\n",
    "# Usage\n",
    "columns_to_search = ['Concern','Skin_type', 'Product','product_url','product_pic']  # Specify multiple columns to search in\n",
    "concern_filter = \"irritation\"\n",
    "output = \"oily\"  # Replace with the word you're searching for\n",
    "\n",
    "result = fetch_columns_if_word_exists(df, columns_to_search, output, 'Concern', concern_filter)\n",
    "\n",
    "print(\"Rows containing the word:\", output)\n",
    "result = pd.DataFrame(result)\n",
    "result\n",
    "\n",
    " "
   ]
  },
  {
   "cell_type": "code",
   "execution_count": null,
   "id": "72bb8364-cd87-40f4-b874-745e7b2dec42",
   "metadata": {},
   "outputs": [],
   "source": []
  }
 ],
 "metadata": {
  "kernelspec": {
   "display_name": "Python 3",
   "language": "python",
   "name": "python3"
  },
  "language_info": {
   "codemirror_mode": {
    "name": "ipython",
    "version": 3
   },
   "file_extension": ".py",
   "mimetype": "text/x-python",
   "name": "python",
   "nbconvert_exporter": "python",
   "pygments_lexer": "ipython3",
   "version": "3.12.6"
  }
 },
 "nbformat": 4,
 "nbformat_minor": 5
}
